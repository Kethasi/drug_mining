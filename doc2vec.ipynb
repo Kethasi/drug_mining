{
 "cells": [
  {
   "cell_type": "code",
   "execution_count": 1,
   "metadata": {},
   "outputs": [],
   "source": [
    "import re\n",
    "import os\n",
    "import numpy as np\n",
    "import pandas as pd\n",
    "import seaborn as sns\n",
    "import matplotlib.pyplot as plt\n",
    "from gensim import corpora, models, similarities\n",
    "from gensim.models.doc2vec import Doc2Vec, TaggedDocument"
   ]
  },
  {
   "cell_type": "code",
   "execution_count": null,
   "metadata": {},
   "outputs": [],
   "source": [
    "#iterator which tags each document with a string: name of the subdirectory in which it is located \n",
    "class DirOfPlainTextCorpus(object):\n",
    "    def __init__(self, parentname):\n",
    "        self.parentname = parentname\n",
    "\n",
    "    def __iter__(self):\n",
    "    for dirname in os.listdir(self.parentname):\n",
    "        subdir = os.path.join(self.parentname, dirname)\n",
    "        if os.path.isdir(subdir):\n",
    "            for fn in os.listdir(subdir):\n",
    "                text = open(os.path.join(subdir, fn)).read()\n",
    "                yield TaggedDocument(text.split(), ['{}'.format(dirname)]) #different kinds of tags, e.g. individual document title or id can be added/substituted here"
   ]
  },
  {
   "cell_type": "code",
   "execution_count": null,
   "metadata": {},
   "outputs": [],
   "source": [
    "#running the model..200 distributed memory \n",
    "model = Doc2Vec(DirOfPlainTextCorpus(\"parent directory\"), dm=1, dbow_words=0, size=200, window=8, min_count=20, iter=20, workers=2)\n",
    "print (model.docvecs)"
   ]
  },
  {
   "cell_type": "code",
   "execution_count": null,
   "metadata": {},
   "outputs": [],
   "source": [
    "#saving the model to your local directory\n",
    "model.save(\"name\")"
   ]
  },
  {
   "cell_type": "code",
   "execution_count": 7,
   "metadata": {},
   "outputs": [],
   "source": [
    "#load a model\n",
    "model = Doc2Vec.load(\"name\")"
   ]
  },
  {
   "cell_type": "code",
   "execution_count": 9,
   "metadata": {},
   "outputs": [
    {
     "data": {
      "text/plain": [
       "array([ 2.12201166,  1.47777832, -1.60687912,  0.44895068, -0.12424453,\n",
       "       -0.87678355, -1.38213658,  1.45538342,  0.94101405,  0.30149561,\n",
       "        0.40820965, -1.38015437, -0.02577023, -2.0465014 ,  1.84592116,\n",
       "        0.7373063 , -0.25662866,  1.58284676, -1.08641291, -0.9903208 ,\n",
       "        1.66459382, -0.74285746, -0.61662614,  0.35474882,  1.55737507,\n",
       "       -2.6954174 ,  1.66748273,  0.0786307 , -0.98789549,  0.90805995,\n",
       "       -0.27667648,  1.37500679, -1.56249666, -1.64959967, -0.03604455,\n",
       "        2.32731938,  0.43328971, -2.14058781, -0.83502823, -0.00671981,\n",
       "        0.91924769,  0.95220006, -0.46417484,  1.3475256 ,  1.38562763,\n",
       "       -0.61371994,  0.12309461, -0.51246089,  0.65227681,  1.04686069,\n",
       "        0.64541179,  0.53702796,  0.70506382, -2.50823164, -0.89765763,\n",
       "        2.44402504,  1.15351331, -0.25150871, -1.10809541, -0.65595704,\n",
       "       -2.17733407,  0.32550189, -0.88088089,  0.0929867 ,  2.10231876,\n",
       "       -0.45414287,  0.69620264,  1.82510364,  0.58042109, -0.44727352,\n",
       "       -1.50363541,  2.73240733,  1.27574968,  2.7007854 , -0.2359685 ,\n",
       "       -1.99985242,  0.91119802,  0.76196343, -0.75639582,  0.84260607,\n",
       "       -1.20560801, -2.86014652,  2.77897692, -0.76898748,  0.50994414,\n",
       "        0.54670525, -1.07270992, -1.13772547,  3.52605033,  0.99770665,\n",
       "        0.76678926,  2.17268324,  0.2344058 , -0.15951267, -0.11110881,\n",
       "       -0.12024646, -0.29825053,  1.03938746,  0.20186876,  1.74099708,\n",
       "       -0.9336381 , -0.21195956, -1.07257593, -1.85695195,  2.31327176,\n",
       "       -1.51808214, -1.90502131,  0.87600118, -0.57795745,  0.9891299 ,\n",
       "        1.21425998,  0.19527464, -0.83053631, -0.66920805, -1.65538347,\n",
       "        0.49133343, -0.29172343,  0.77694219, -0.37176573, -1.74915481,\n",
       "       -1.41033471,  0.92626011, -1.34288824,  0.24530604,  0.02019968,\n",
       "        0.58937424, -0.57866764,  0.16017219,  2.74879885, -0.79485577,\n",
       "       -1.54756725, -1.54095364, -0.867001  ,  0.26897159,  0.52652615,\n",
       "        1.15046477, -1.67890453, -0.67352027,  1.90881395,  2.61668658,\n",
       "       -2.05070925, -0.52509743,  0.93726635, -0.54172277,  1.0882318 ,\n",
       "        1.23484826, -0.39762449, -0.68969995,  0.7746588 , -1.94842112,\n",
       "       -0.02890939, -0.28782749,  1.60657811, -0.44718623, -1.51156449,\n",
       "        0.74730414, -3.27556133,  0.0437274 ,  0.56645912, -1.89164782,\n",
       "        0.32955611, -1.0699625 ,  1.14692783, -1.47594643, -0.11918564,\n",
       "       -0.51319182, -1.22475052, -0.45570147,  1.02072108,  2.17660213,\n",
       "       -0.55422235,  0.7039203 ,  0.39296719, -0.98237979,  0.03615433,\n",
       "       -2.19932342,  0.41238657,  0.32616273,  0.7020281 ,  0.90254527,\n",
       "       -1.44066238, -1.19088924,  0.67097604, -0.90250343,  0.99894696,\n",
       "        0.52639246, -0.52717268,  0.04203393, -0.21080431, -1.45621455,\n",
       "       -0.20804264,  2.07610464,  0.69910443, -0.61784405, -1.63182175,\n",
       "       -1.43020034, -0.33664942,  0.90997577,  0.08290325,  0.98184437], dtype=float32)"
      ]
     },
     "execution_count": 9,
     "metadata": {},
     "output_type": "execute_result"
    }
   ],
   "source": [
    "#some basic commands\n",
    "#infer wordvector for \"breakthrough\"\n",
    "model[\"breakthrough\"]"
   ]
  },
  {
   "cell_type": "code",
   "execution_count": 10,
   "metadata": {},
   "outputs": [
    {
     "data": {
      "text/plain": [
       "array([-0.59478521,  0.66990429,  0.04855514,  1.39688742,  0.75323641,\n",
       "       -0.78101945, -0.79877138,  1.5533818 ,  1.48091793, -0.07356626,\n",
       "       -0.25560293,  0.03205907,  0.8885839 ,  2.06512213, -0.63106889,\n",
       "       -0.50872207, -0.15382871, -0.06665841, -1.49784815, -0.87108195,\n",
       "        3.03727174, -0.26193801, -0.16582502,  0.8395375 ,  0.72907454,\n",
       "       -2.11143255,  1.86878765,  0.33958307, -3.26231003,  1.08646929,\n",
       "       -0.66114104,  0.88200784,  0.26791999, -2.01773429, -0.43476874,\n",
       "        1.78680241,  1.93473911,  0.57613969, -0.38767245, -0.09930041,\n",
       "        1.42746234,  1.16643739, -0.72762841, -1.89089668, -0.31899485,\n",
       "        0.2930662 ,  0.4542554 ,  0.6441552 ,  1.73091006, -1.01212835,\n",
       "        0.39886591,  0.31672418,  0.99086785, -1.11694169, -1.07665992,\n",
       "        0.18431559,  0.11437342, -0.5719294 , -0.01435062, -1.43902111,\n",
       "       -0.05000845,  1.66444016,  1.21248281, -1.58250701,  0.32353303,\n",
       "        0.64843798, -0.44720295,  2.5789659 ,  1.20279181, -1.72484291,\n",
       "        0.68157554,  0.50332028,  0.34208465, -0.44319403, -0.91915202,\n",
       "        0.38751829, -0.73112828,  0.42203605, -0.19511315,  1.16855609,\n",
       "       -1.33205891, -1.66293812,  1.09936619, -0.74208689,  1.24234056,\n",
       "       -0.83045012,  1.23431003, -1.13301241,  2.61493611,  0.56758273,\n",
       "        1.511554  , -1.16003966,  0.60246783,  0.69767487, -1.54650784,\n",
       "        0.04505926, -0.04493989, -0.67303276,  2.17296004, -0.85927343,\n",
       "       -1.57317567, -0.49609074,  0.98308766, -1.2004801 , -0.80913019,\n",
       "       -0.05591026, -1.86057317, -0.31920138,  0.83719355,  1.62185419,\n",
       "        0.94377321,  2.03022408, -1.03918016, -0.08412424, -1.50144184,\n",
       "       -1.74892628,  1.53683794,  0.62538928,  0.02248864,  0.74694288,\n",
       "       -0.77525216, -0.4550415 , -1.08034766,  1.28090656,  1.34471047,\n",
       "        1.42690384,  0.49615714,  1.50767374,  1.01956356, -0.0291715 ,\n",
       "       -1.19543779, -0.11415084,  0.66735327,  0.84471434,  0.45153698,\n",
       "        0.12524128,  0.80952621, -1.80382407, -0.29154086,  1.51142764,\n",
       "       -1.4486444 , -1.25485909,  3.29926252,  1.16114187,  0.64095491,\n",
       "        0.93719101, -0.17086221, -1.41724789,  2.65875244, -1.59008658,\n",
       "        1.6654799 ,  1.66715312,  1.45620179,  1.98598003,  0.85966945,\n",
       "        1.56097603, -1.12693751,  1.21377492,  3.07824039, -2.28727698,\n",
       "       -0.54788148, -1.00971854, -0.12614027, -0.41904184, -0.18235159,\n",
       "       -1.16566598, -0.07771017, -0.12104172,  0.5077045 ,  1.0369066 ,\n",
       "       -0.79346949, -0.41207278,  1.05355191, -0.67952365, -0.72470057,\n",
       "       -0.1282955 , -0.81972289, -2.736027  , -0.68641818, -1.41215062,\n",
       "       -0.65481341, -0.19696292, -0.55861074, -1.24112093,  1.30199182,\n",
       "        0.12699722,  0.39686409, -1.71396971,  0.03984949, -3.01438332,\n",
       "       -0.73611951, -0.25355175,  0.3937901 , -0.66963696,  0.66771573,\n",
       "       -1.79384124,  0.90338218,  1.94890451,  0.18620518,  0.87007743], dtype=float32)"
      ]
     },
     "execution_count": 10,
     "metadata": {},
     "output_type": "execute_result"
    }
   ],
   "source": [
    "#infer docvector for DMT \n",
    "model.docvecs[\"DMT\"]"
   ]
  },
  {
   "cell_type": "code",
   "execution_count": 11,
   "metadata": {},
   "outputs": [
    {
     "data": {
      "text/plain": [
       "[('girlfriend', 0.5811253190040588),\n",
       " ('girl', 0.46536099910736084),\n",
       " ('friend', 0.39884936809539795),\n",
       " ('fiance', 0.3714718520641327),\n",
       " ('ex-girlfriend', 0.37015992403030396),\n",
       " ('roommate', 0.3693680167198181),\n",
       " ('roomates', 0.3596797585487366),\n",
       " ('partner', 0.3579680919647217),\n",
       " ('bf', 0.34675848484039307),\n",
       " ('ex-boyfriend', 0.34555962681770325)]"
      ]
     },
     "execution_count": 11,
     "metadata": {},
     "output_type": "execute_result"
    }
   ],
   "source": [
    "#Vector algebra with word vectors: boyfriend + female - male = ?\n",
    "model.most_similar(positive=[\"boyfriend\",\"female\"],negative=[\"male\"])"
   ]
  },
  {
   "cell_type": "code",
   "execution_count": 12,
   "metadata": {},
   "outputs": [
    {
     "data": {
      "text/plain": [
       "[('dmt', 0.38260823488235474),\n",
       " ('hyperspace', 0.3636336028575897),\n",
       " ('n-dmt', 0.35861852765083313),\n",
       " ('ayahuasca', 0.34576788544654846),\n",
       " ('ego-loss', 0.33514678478240967),\n",
       " ('4-ho-dpt', 0.33315372467041016),\n",
       " ('4-ho-ept', 0.32709425687789917),\n",
       " ('ego-death', 0.32578495144844055),\n",
       " ('40x', 0.3238430619239807),\n",
       " ('quantify', 0.31871840357780457),\n",
       " ('+4', 0.31812262535095215),\n",
       " ('humbling', 0.31222423911094666),\n",
       " ('++++', 0.3112090229988098),\n",
       " ('aborted', 0.30700966715812683),\n",
       " ('-oxo-pce', 0.3062037229537964),\n",
       " ('obe', 0.3031576871871948),\n",
       " ('pharmahuasca', 0.3015109598636627),\n",
       " ('entity', 0.30110618472099304),\n",
       " ('caapi', 0.29864001274108887),\n",
       " ('marginal', 0.29623669385910034),\n",
       " ('life-changing', 0.2957206964492798),\n",
       " ('propelled', 0.29502010345458984),\n",
       " ('revival', 0.29437631368637085),\n",
       " ('oobe', 0.2929324507713318),\n",
       " ('transcendence', 0.2924651503562927),\n",
       " ('recreate', 0.28922608494758606),\n",
       " ('4-ho-mpt', 0.2888203263282776),\n",
       " ('spiritual', 0.2886415421962738),\n",
       " ('6x', 0.28740569949150085),\n",
       " ('changa', 0.2855415940284729)]"
      ]
     },
     "execution_count": 12,
     "metadata": {},
     "output_type": "execute_result"
    }
   ],
   "source": [
    "#30 most similar words to word: breakthrough\n",
    "model.most_similar(\"breakthrough\", topn = 30)"
   ]
  },
  {
   "cell_type": "code",
   "execution_count": 13,
   "metadata": {},
   "outputs": [
    {
     "data": {
      "text/plain": [
       "[('5-MeO-DMT', 0.6026339530944824),\n",
       " ('Salvia', 0.5268815159797668),\n",
       " ('S4', 0.4097597599029541),\n",
       " ('S10', 0.36894121766090393),\n",
       " ('S9', 0.3613460063934326),\n",
       " ('S8', 0.35330429673194885),\n",
       " ('S7', 0.34689459204673767),\n",
       " ('S12', 0.34654733538627625),\n",
       " ('S13', 0.3335018754005432),\n",
       " ('S1', 0.3213704526424408)]"
      ]
     },
     "execution_count": 13,
     "metadata": {},
     "output_type": "execute_result"
    }
   ],
   "source": [
    "#most similar drug-reports to DMT reports\n",
    "model.docvecs.most_similar(\"DMT\")"
   ]
  },
  {
   "cell_type": "code",
   "execution_count": 47,
   "metadata": {
    "scrolled": true
   },
   "outputs": [
    {
     "data": {
      "text/plain": [
       "[('DMT', 0.39383664727211),\n",
       " ('S4', 0.31840720772743225),\n",
       " ('S10', 0.30137643218040466),\n",
       " ('S12', 0.2980191111564636),\n",
       " ('5-MeO-DMT', 0.27464669942855835),\n",
       " ('S9', 0.2679348886013031),\n",
       " ('S8', 0.2655828595161438),\n",
       " ('S11', 0.2520626485347748),\n",
       " ('S1', 0.23176945745944977),\n",
       " ('Salvia', 0.23155781626701355),\n",
       " ('Ayahuasca', 0.2219954878091812),\n",
       " ('S7', 0.22049733996391296),\n",
       " ('S2', 0.2053733468055725),\n",
       " ('S6', 0.19821326434612274),\n",
       " ('S13', 0.19660355150699615),\n",
       " ('S5', 0.1824530065059662),\n",
       " ('S3', 0.1728987693786621),\n",
       " ('Ketamine', 0.09280911087989807),\n",
       " ('Rest', 0.050498977303504944),\n",
       " ('Mescaline', 0.03178500011563301)]"
      ]
     },
     "execution_count": 47,
     "metadata": {},
     "output_type": "execute_result"
    }
   ],
   "source": [
    "# most similar drug-reports (tags) to word: breakthrough\n",
    "model.docvecs.most_similar( [model[\"breakthrough\"]], topn= 20)"
   ]
  },
  {
   "cell_type": "code",
   "execution_count": 49,
   "metadata": {},
   "outputs": [
    {
     "data": {
      "text/plain": [
       "[('Scopolamine', 0.17574098706245422),\n",
       " ('LSD', 0.14706596732139587),\n",
       " ('Salvia', 0.13756726682186127),\n",
       " ('DXM', 0.112326979637146),\n",
       " ('Ketamine', 0.10454871505498886),\n",
       " ('Opiates', 0.10293807089328766),\n",
       " ('Methamphetamine', 0.10090991109609604),\n",
       " ('Cocaine', 0.0924009308218956),\n",
       " ('Amphetamines', 0.07464443892240524),\n",
       " ('Rest', 0.05652932822704315),\n",
       " ('Mushrooms', 0.05374997481703758),\n",
       " ('Opioids', 0.04945013299584389),\n",
       " ('Ayahuasca', 0.04140089824795723),\n",
       " ('2C-E', 0.035028040409088135),\n",
       " ('Cannabis', 0.013307670131325722),\n",
       " ('S13', 0.0019436310976743698),\n",
       " ('S6', -0.0005831383168697357),\n",
       " ('S10', -0.001652287319302559),\n",
       " ('Mescaline', -0.0062070246785879135),\n",
       " ('5-MeO-DMT', -0.012760963290929794)]"
      ]
     },
     "execution_count": 49,
     "metadata": {},
     "output_type": "execute_result"
    }
   ],
   "source": [
    "# most similar drug-reports to word \"nightmare\" (scopolamine corpus consists of datura and brugmansia reports)\n",
    "model.docvecs.most_similar( [model[\"nightmare\"]], topn= 20)"
   ]
  },
  {
   "cell_type": "code",
   "execution_count": 14,
   "metadata": {},
   "outputs": [
    {
     "data": {
      "text/plain": [
       "[('tab', 0.3711024820804596),\n",
       " ('dropped', 0.3345519006252289),\n",
       " ('blotter', 0.30844733119010925),\n",
       " ('amino', 0.2765237092971802),\n",
       " ('ascorbic', 0.26308271288871765),\n",
       " ('sheet', 0.23952078819274902),\n",
       " ('acetic', 0.23918545246124268),\n",
       " ('500mcg', 0.23674307763576508),\n",
       " ('drop', 0.23495738208293915),\n",
       " ('lysergic', 0.2342635691165924),\n",
       " ('citric', 0.23408816754817963),\n",
       " ('dull', 0.23310282826423645),\n",
       " ('hydrochloric', 0.22749066352844238),\n",
       " ('dob', 0.2265581637620926),\n",
       " ('block', 0.21570917963981628)]"
      ]
     },
     "execution_count": 14,
     "metadata": {},
     "output_type": "execute_result"
    }
   ],
   "source": [
    "# which words mark the difference between LSD and mushroom corpora?\n",
    "vec = [model.docvecs[\"LSD\"] - model.docvecs[\"Mushrooms\"]] \n",
    "model.most_similar(vec, topn = 15)"
   ]
  },
  {
   "cell_type": "code",
   "execution_count": 15,
   "metadata": {},
   "outputs": [],
   "source": [
    "#now let's build a similarity matrix. Per default the vectors in docvecs.doctag_syn0 are sorted by offset, which is randomly assigned with every model in case of string tags. To interpret and reorder the matrix we will infer the offset order in the next step\n",
    "vectors = model.docvecs.doctag_syn0\n",
    "mags = np.linalg.norm(vectors, axis=1)\n",
    "unit_vecs = vectors / mags[:, None]\n",
    "sim_matrix = unit_vecs.dot(np.matrix.transpose(unit_vecs))"
   ]
  },
  {
   "cell_type": "code",
   "execution_count": 18,
   "metadata": {},
   "outputs": [
    {
     "name": "stdout",
     "output_type": "stream",
     "text": [
      "['S1', 'S2', 'S3', 'S4', 'S5', 'S6', 'S7', 'S8', 'S9', 'S10', 'S11', 'S12', 'S13', '2C-B', '2C-E', '2C-I', '5-MeO-DMT', 'Amphetamines', 'Ayahuasca', 'Cannabis', 'Cocaine', 'DMT', 'DXM', 'Ketamine', 'LSA', 'LSD', 'MDMA', 'Mescaline', 'Methamphetamine', 'Mushrooms', 'Opiates', 'Opioids', 'Salvia', 'Scopolamine', 'Rest']\n"
     ]
    }
   ],
   "source": [
    "#get the list of document tags ordered by offset to interpret the similarity matrix\n",
    "tags = model.docvecs.doctags\n",
    "taglist = sorted(tags, key=tags.__getitem__)\n",
    "#apply a custom taglist order in which the similarity matrix will be displayed later. Sort alphabetically first so that the custom order is applicable to new random offsets \n",
    "tags_alph = sorted(taglist)\n",
    "order = [20, 25, 26, 27, 28, 29, 30, 31, 32, 21, 22, 23, 24, 0, 1, 2, 3, 4, 5, 6, 7, 8, 9,10, 11, 12,13, 14, 15, 16, 17, 18, 33, 34, 19]\n",
    "tags_ordered = [tags_alph[i] for i in order]\n",
    "print tags_ordered"
   ]
  },
  {
   "cell_type": "code",
   "execution_count": 19,
   "metadata": {},
   "outputs": [
    {
     "name": "stderr",
     "output_type": "stream",
     "text": [
      "/Users/hanneskettner/anaconda2/envs/egodiss/lib/python2.7/site-packages/ipykernel_launcher.py:4: FutureWarning: '.reindex_axis' is deprecated and will be removed in a future version. Use '.reindex' instead.\n",
      "  after removing the cwd from sys.path.\n",
      "/Users/hanneskettner/anaconda2/envs/egodiss/lib/python2.7/site-packages/ipykernel_launcher.py:6: FutureWarning: '.reindex_axis' is deprecated and will be removed in a future version. Use '.reindex' instead.\n",
      "  \n"
     ]
    }
   ],
   "source": [
    "#Reorder the similarity matrix according to the above custom order \n",
    "df = pd.DataFrame(sim_matrix, index = taglist, columns = taglist)\n",
    "df = df.reindex(sorted(df.index))\n",
    "df = df.reindex_axis(sorted(df.columns), axis=1)\n",
    "df = df.reindex(df.index[order])\n",
    "df = df.reindex_axis(df.columns[order], axis = 1)"
   ]
  },
  {
   "cell_type": "code",
   "execution_count": 29,
   "metadata": {},
   "outputs": [
    {
     "data": {
      "text/plain": [
       "0.60263389"
      ]
     },
     "execution_count": 29,
     "metadata": {},
     "output_type": "execute_result"
    }
   ],
   "source": [
    "#infer similarity between 5-MeO-DMT and DMT reports from panda dataframe\n",
    "df.loc[\"DMT\"][\"5-MeO-DMT\"]"
   ]
  },
  {
   "cell_type": "code",
   "execution_count": 33,
   "metadata": {},
   "outputs": [
    {
     "data": {
      "text/plain": [
       "0.60263395657075747"
      ]
     },
     "execution_count": 33,
     "metadata": {},
     "output_type": "execute_result"
    }
   ],
   "source": [
    "#checking that nothing went wrong in the meantime\n",
    "model.docvecs.similarity(\"DMT\",\"5-MeO-DMT\")"
   ]
  },
  {
   "cell_type": "code",
   "execution_count": 24,
   "metadata": {},
   "outputs": [],
   "source": [
    "#visualize the similarity matrix\n",
    "plot_mat = np.array(df)\n",
    "plot_mat = plot_mat.astype(np.float32)\n",
    "mask = np.zeros_like(plot_mat, dtype = np.bool)\n",
    "mask[np.triu_indices_from(mask)] = True\n",
    "f, ax = plt.subplots(figsize=(11,9))\n",
    "cmap = sns.diverging_palette(220, 10, as_cmap=True)\n",
    "sim_plot = sns.heatmap(plot_mat, mask=mask, cmap=cmap, vmax=.8, center=0, square=True, linewidths=.1, cbar_kws={\"shrink\": .5}, xticklabels = tags_ordered, yticklabels = tags_ordered)\n",
    "fig = sim_plot.get_figure()"
   ]
  },
  {
   "cell_type": "code",
   "execution_count": 25,
   "metadata": {},
   "outputs": [
    {
     "data": {
      "image/png": "[encoded data removed]",
      "text/plain": [
       "<matplotlib.figure.Figure at 0x1a206238d0>"
      ]
     },
     "execution_count": 25,
     "metadata": {},
     "output_type": "execute_result"
    }
   ],
   "source": [
    "fig"
   ]
  },
  {
   "cell_type": "code",
   "execution_count": 85,
   "metadata": {},
   "outputs": [
    {
     "data": {
      "text/plain": [
       "2C-B               0.136176\n",
       "2C-E               0.132911\n",
       "2C-I               0.069951\n",
       "5-MeO-DMT          0.234084\n",
       "Amphetamines       0.070882\n",
       "Ayahuasca          0.257128\n",
       "Cannabis           0.057068\n",
       "Cocaine            0.044516\n",
       "DMT                0.324681\n",
       "DXM                0.076151\n",
       "Ketamine           0.217586\n",
       "LSA                0.059282\n",
       "LSD                0.135801\n",
       "MDMA               0.082377\n",
       "Mescaline          0.073389\n",
       "Methamphetamine    0.060268\n",
       "Mushrooms          0.163449\n",
       "Opiates            0.090208\n",
       "Opioids            0.100507\n",
       "Salvia             0.192636\n",
       "Scopolamine        0.089196\n",
       "Rest               0.272497\n",
       "dtype: float32"
      ]
     },
     "execution_count": 85,
     "metadata": {},
     "output_type": "execute_result"
    }
   ],
   "source": [
    "#average similarity between lab subjects' 1-13 reports and any of the drug corpora\n",
    "df.iloc[0:13, 13:].mean()"
   ]
  }
 ],
 "metadata": {
  "kernelspec": {
   "display_name": "Python 2",
   "language": "python",
   "name": "python2"
  },
  "language_info": {
   "codemirror_mode": {
    "name": "ipython",
    "version": 2
   },
   "file_extension": ".py",
   "mimetype": "text/x-python",
   "name": "python",
   "nbconvert_exporter": "python",
   "pygments_lexer": "ipython2",
   "version": "2.7.14"
  }
 },
 "nbformat": 4,
 "nbformat_minor": 2
}
